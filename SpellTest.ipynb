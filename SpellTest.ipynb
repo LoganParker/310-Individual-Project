{
 "cells": [
  {
   "cell_type": "code",
   "execution_count": 12,
   "metadata": {},
   "outputs": [
    {
     "name": "stdout",
     "output_type": "stream",
     "text": [
      "['let', 'us', 'walk', 'on', 'the', 'groun']\n"
     ]
    }
   ],
   "source": [
    "from spellchecker import SpellChecker\n",
    "spell = SpellChecker()\n",
    "misspelled = ['let', 'us', 'wlak','on','the','groun']\n",
    "right = []\n",
    "for word in misspelled:\n",
    "    word = spell.correction(word)\n",
    "    right.append(spell.correction(word))\n",
    "print(right)"
   ]
  },
  {
   "cell_type": "code",
   "execution_count": 1,
   "metadata": {},
   "outputs": [
    {
     "data": {
      "text/plain": [
       "['Let', 'us', 'walk', 'on', 'the', 'groun']"
      ]
     },
     "execution_count": 1,
     "metadata": {},
     "output_type": "execute_result"
    }
   ],
   "source": [
    "from spellchecker import SpellChecker\n",
    "spell = SpellChecker()\n",
    "\n",
    "def spell_check(string):\n",
    "    \"\"\"takes a string and returns a list substring of corrected words\"\"\"\n",
    "    err = string.split()\n",
    "    correct = []\n",
    "    for word in err:\n",
    "        word = spell.correction(word)\n",
    "        correct.append(spell.correction(word))\n",
    "    return correct;\n",
    "\n",
    "spell_check(\"Let us wlak on the groun\")"
   ]
  },
  {
   "cell_type": "code",
   "execution_count": 3,
   "metadata": {},
   "outputs": [
    {
     "data": {
      "text/plain": [
       "['Let', 'us', 'walk', 'on', 'the', 'grown']"
      ]
     },
     "execution_count": 3,
     "metadata": {},
     "output_type": "execute_result"
    }
   ],
   "source": [
    "from Scripts import spell_check as sp\n",
    "sp(\"Let us wlak on the growdn\")"
   ]
  }
 ],
 "metadata": {
  "interpreter": {
   "hash": "dd91e9b7065f6509c0e29f0710c3bf94c5f7b7a33d0fd1a544c489f654a6868e"
  },
  "kernelspec": {
   "display_name": "Python 3.8.5 ('base')",
   "language": "python",
   "name": "python3"
  },
  "language_info": {
   "codemirror_mode": {
    "name": "ipython",
    "version": 3
   },
   "file_extension": ".py",
   "mimetype": "text/x-python",
   "name": "python",
   "nbconvert_exporter": "python",
   "pygments_lexer": "ipython3",
   "version": "3.8.5"
  },
  "orig_nbformat": 4
 },
 "nbformat": 4,
 "nbformat_minor": 2
}

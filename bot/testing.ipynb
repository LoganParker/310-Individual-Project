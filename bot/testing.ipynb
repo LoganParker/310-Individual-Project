{
 "cells": [
  {
   "cell_type": "code",
   "execution_count": 1,
   "metadata": {},
   "outputs": [],
   "source": [
    "import unittest\n",
    "import bot"
   ]
  },
  {
   "cell_type": "code",
   "execution_count": null,
   "metadata": {},
   "outputs": [],
   "source": [
    "class TestClass(unittest.TestCase):\n",
    "    def test_spell_check(self):\n",
    "        #TODO: Add 2 more test cases\n",
    "        #self.assertEqual(bot.spell_check(\"tdll md wdy\"), [\"tell me why\"])\n",
    "        #self.assertEqual(bot.spell_check(\"ain't nothin but a heartche\"),[\"ain't nothing but a heartache\"])\n",
    "        #self.assertEqual(bot.spell_check(\"I nevr wanna hear yu say \"),[\"I never wanna hear you say\"])\n",
    "        #print(bot.spell_check(\"tdll md wdy ain't nothin but a heartche I nevr wanna hear yu say \"))\n",
    "        #I want it that way! \n",
    "        return True\n",
    "\n",
    "    def test_get_response(self):\n",
    "        # TODO: Use bot get_response to test 3 inputs\n",
    "        print(\"test\")\n",
    "        return False\n",
    "        # keywords = data_utils.data_load.load_data(\"keywords.csv\")\n",
    "        # self.assertEqual(bot.get_response(\"1\", keywords), \"Sorry I did not understand what you said\")\n",
    "\n",
    "    def test_load_data(self):\n",
    "        # TODO: Test json data loading\n",
    "        # self.assertEqual(load_data(\"file_does_not_exist.csv\"), \"Sorry! I cant come up with the words right now\")\n",
    "        return False\n",
    "\n",
    "    def test_syn_detection(self):\n",
    "        # TODO: Test synonyms for 3 commonly used words\n",
    "        return False\n",
    "\n",
    "if __name__ == '__main__':\n",
    "    unittest.main()"
   ]
  }
 ],
 "metadata": {
  "interpreter": {
   "hash": "dd91e9b7065f6509c0e29f0710c3bf94c5f7b7a33d0fd1a544c489f654a6868e"
  },
  "kernelspec": {
   "display_name": "Python 3.8.5 ('base')",
   "language": "python",
   "name": "python3"
  },
  "language_info": {
   "codemirror_mode": {
    "name": "ipython",
    "version": 3
   },
   "file_extension": ".py",
   "mimetype": "text/x-python",
   "name": "python",
   "nbconvert_exporter": "python",
   "pygments_lexer": "ipython3",
   "version": "3.8.5"
  },
  "orig_nbformat": 4
 },
 "nbformat": 4,
 "nbformat_minor": 2
}
